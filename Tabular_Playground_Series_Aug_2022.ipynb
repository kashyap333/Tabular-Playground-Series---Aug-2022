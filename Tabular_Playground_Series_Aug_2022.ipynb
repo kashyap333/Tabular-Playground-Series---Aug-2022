{
  "nbformat": 4,
  "nbformat_minor": 0,
  "metadata": {
    "colab": {
      "name": "Tabular Playground Series - Aug 2022.ipynb",
      "provenance": [],
      "collapsed_sections": [],
      "authorship_tag": "ABX9TyMJSR7+DuxGdbpMghV6rjZ/",
      "include_colab_link": true
    },
    "kernelspec": {
      "name": "python3",
      "display_name": "Python 3"
    },
    "language_info": {
      "name": "python"
    }
  },
  "cells": [
    {
      "cell_type": "markdown",
      "metadata": {
        "id": "view-in-github",
        "colab_type": "text"
      },
      "source": [
        "<a href=\"https://colab.research.google.com/github/kashyap333/Tabular-Playground-Series---Aug-2022/blob/main/Tabular_Playground_Series_Aug_2022.ipynb\" target=\"_parent\"><img src=\"https://colab.research.google.com/assets/colab-badge.svg\" alt=\"Open In Colab\"/></a>"
      ]
    },
    {
      "cell_type": "markdown",
      "source": [
        "# Kaggle setup and data download"
      ],
      "metadata": {
        "id": "YJOZg-T1qAaE"
      }
    },
    {
      "cell_type": "code",
      "execution_count": null,
      "metadata": {
        "id": "X6jAC8vOnzOt"
      },
      "outputs": [],
      "source": [
        "!pip install kaggle"
      ]
    },
    {
      "cell_type": "code",
      "source": [
        "!mkdir ~/.kaggle"
      ],
      "metadata": {
        "id": "YQ__Wi-doFuA"
      },
      "execution_count": null,
      "outputs": []
    },
    {
      "cell_type": "code",
      "source": [
        "!cp kaggle.json ~/.kaggle/kaggle.json\n",
        "!chmod 600 /root/.kaggle/kaggle.json"
      ],
      "metadata": {
        "id": "8BiBkqX-ozpz"
      },
      "execution_count": null,
      "outputs": []
    },
    {
      "cell_type": "code",
      "source": [
        "!kaggle competitions download -c tabular-playground-series-aug-2022\n"
      ],
      "metadata": {
        "id": "3vVt6atQp2J5"
      },
      "execution_count": null,
      "outputs": []
    },
    {
      "cell_type": "code",
      "source": [
        "!unzip tabular-playground-series-aug-2022"
      ],
      "metadata": {
        "id": "QiaKp8YlqXdC"
      },
      "execution_count": null,
      "outputs": []
    },
    {
      "cell_type": "code",
      "source": [
        "!pip install https://github.com/pandas-profiling/pandas-profiling/archive/master.zip"
      ],
      "metadata": {
        "id": "XmCgfKjPh-es"
      },
      "execution_count": null,
      "outputs": []
    },
    {
      "cell_type": "markdown",
      "source": [
        "# Data Loading and visualising with pandas profiling\n"
      ],
      "metadata": {
        "id": "5_OPpyYsqp3V"
      }
    },
    {
      "cell_type": "code",
      "source": [
        "from sklearn.experimental import enable_iterative_imputer\n",
        "from sklearn.impute import IterativeImputer, SimpleImputer\n",
        "import pandas as pd\n",
        "import matplotlib.pyplot as plt\n",
        "import seaborn as sns\n",
        "import numpy as np\n",
        "import sklearn\n",
        "from sklearn.ensemble import VotingClassifier\n",
        "from sklearn.compose import ColumnTransformer\n",
        "from sklearn.preprocessing import StandardScaler, PowerTransformer, LabelEncoder\n",
        "from sklearn.model_selection import train_test_split\n",
        "from pandas_profiling import ProfileReport as pr\n",
        "from sklearn.model_selection import cross_validate\n",
        "from sklearn.linear_model import LogisticRegression, PoissonRegressor, SGDClassifier\n",
        "from sklearn import metrics\n",
        "from sklearn.neighbors import KNeighborsClassifier\n",
        "from sklearn.svm import SVC\n",
        "from sklearn.naive_bayes import GaussianNB\n",
        "from sklearn.ensemble import RandomForestClassifier\n",
        "from sklearn.metrics import roc_auc_score\n",
        "from sklearn.feature_selection import SelectKBest\n",
        "from sklearn.pipeline import make_pipeline, Pipeline\n",
        "from pandas_profiling import ProfileReport\n",
        "from xgboost import XGBClassifier\n",
        "from imblearn.over_sampling import SMOTE\n",
        "from collections import Counter \n",
        "%matplotlib inline"
      ],
      "metadata": {
        "id": "WH7els6uqzpM"
      },
      "execution_count": 72,
      "outputs": []
    },
    {
      "cell_type": "code",
      "source": [
        "train = pd.read_csv('train.csv')\n",
        "test = pd.read_csv('test.csv')\n",
        "train_test = pd.concat([train[test.columns], test], ignore_index=True)"
      ],
      "metadata": {
        "id": "HdT4FynxD6qU"
      },
      "execution_count": 7,
      "outputs": []
    },
    {
      "cell_type": "code",
      "source": [
        "pr = ProfileReport\n",
        "report = pr(train_test, title='profile result', html={'style': {'full_width': True}})\n",
        "report.to_notebook_iframe()"
      ],
      "metadata": {
        "id": "BN08PXQgt1mw"
      },
      "execution_count": null,
      "outputs": []
    },
    {
      "cell_type": "code",
      "source": [
        "train_test.head()"
      ],
      "metadata": {
        "id": "w_z_pHN6D6iu"
      },
      "execution_count": null,
      "outputs": []
    },
    {
      "cell_type": "code",
      "source": [
        "train_test.info()"
      ],
      "metadata": {
        "id": "JRD6F24Ic-Nk"
      },
      "execution_count": null,
      "outputs": []
    },
    {
      "cell_type": "markdown",
      "source": [
        "# Data Preprocessing"
      ],
      "metadata": {
        "id": "5kklg-Luxwxe"
      }
    },
    {
      "cell_type": "code",
      "source": [
        "object_columns = ['product_code', 'attribute_0', 'attribute_1']\n",
        "train_test.drop(['id'], axis=1, inplace=True)\n",
        "#train_test_object = train_test.copy()\n",
        "train_test.drop(object_columns, axis=1, inplace=True)\n",
        "all_columns = train_test.columns"
      ],
      "metadata": {
        "id": "juDLpfqGdQ8W"
      },
      "execution_count": 8,
      "outputs": []
    },
    {
      "cell_type": "markdown",
      "source": [
        "lb = LabelEncoder()\n",
        "for i in train_test_object.columns:\n",
        "  train_test_object[i] = lb.fit_transform(train_test_object[i])"
      ],
      "metadata": {
        "id": "d0VL0luHIxJp"
      }
    },
    {
      "cell_type": "code",
      "source": [
        "imp = IterativeImputer(max_iter=10, initial_strategy='mean')\n",
        "std_scaler = StandardScaler()\n",
        "for i in train_test.columns:\n",
        "  \n",
        "  train_test[[i]] = imp.fit_transform(train_test[[i]])\n",
        "\n",
        "train_test[all_columns] = std_scaler.fit_transform(train_test[all_columns])"
      ],
      "metadata": {
        "id": "9RVp5BA0dl-u"
      },
      "execution_count": 9,
      "outputs": []
    },
    {
      "cell_type": "code",
      "source": [
        "#full_data = pd.concat([train_test_object, train_test], axis=1)"
      ],
      "metadata": {
        "id": "rqxpDdtPKI4D"
      },
      "execution_count": 174,
      "outputs": []
    },
    {
      "cell_type": "code",
      "source": [
        "full_data = train_test.copy()"
      ],
      "metadata": {
        "id": "Lr4ZZQjUMXls"
      },
      "execution_count": 10,
      "outputs": []
    },
    {
      "cell_type": "code",
      "source": [
        "x_train = full_data.iloc[:train.shape[0], :]\n",
        "y_train = train.failure.astype('float')\n",
        "x_test = full_data.iloc[train.shape[0]:, :]"
      ],
      "metadata": {
        "id": "zlWQgSGQktRx"
      },
      "execution_count": 11,
      "outputs": []
    },
    {
      "cell_type": "code",
      "source": [
        "sm = SMOTE(random_state=42)\n",
        "x_train, y_train = sm.fit_resample(x_train, y_train)\n",
        "print('Resampled dataset shape %s' % Counter(y_train))"
      ],
      "metadata": {
        "colab": {
          "base_uri": "https://localhost:8080/"
        },
        "id": "3bxddHphM3EV",
        "outputId": "c3e51999-16b8-41b2-b850-0f076b902f5f"
      },
      "execution_count": 13,
      "outputs": [
        {
          "output_type": "stream",
          "name": "stdout",
          "text": [
            "Resampled dataset shape Counter({0.0: 20921, 1.0: 20921})\n"
          ]
        }
      ]
    },
    {
      "cell_type": "markdown",
      "source": [
        "# Model Building\n"
      ],
      "metadata": {
        "id": "HlCQqf6Vx0rN"
      }
    },
    {
      "cell_type": "code",
      "source": [
        "ensemble = VotingClassifier(\n",
        "    estimators=[\n",
        "        ('lr',  LogisticRegression(class_weight='balanced',random_state = 0)),\n",
        "        (\"modelrfc\", RandomForestClassifier(\n",
        "        class_weight='balanced', \n",
        "        criterion='entropy',\n",
        "        max_depth=22, \n",
        "        min_samples_split=4, \n",
        "        n_estimators=250,\n",
        "        random_state=56)),\n",
        "        ('gaussian', GaussianNB()),\n",
        "        ('KNN', KNeighborsClassifier()),\n",
        "        ('SVM', SVC(probability=True)),\n",
        "        ('xgb', XGBClassifier())\n",
        "    ], voting='soft')\n",
        "\n",
        "steps = [('ec',ensemble)]\n",
        "         "
      ],
      "metadata": {
        "id": "nvDmWyM1hx-s"
      },
      "execution_count": 77,
      "outputs": []
    },
    {
      "cell_type": "code",
      "source": [
        "stacking_classifiers = Pipeline(steps)"
      ],
      "metadata": {
        "id": "iGz5sHG6wq_W"
      },
      "execution_count": 78,
      "outputs": []
    },
    {
      "cell_type": "code",
      "source": [
        "stacking_classifiers= stacking_classifiers.fit(x_train, y_train)"
      ],
      "metadata": {
        "id": "NH9qE6sixGhf"
      },
      "execution_count": 79,
      "outputs": []
    },
    {
      "cell_type": "code",
      "source": [
        "trainy_pred_ec = stacking_classifiers.predict(x_train)\n",
        "validy_pred_ec = stacking_classifiers.predict_proba(x_test)"
      ],
      "metadata": {
        "id": "ldLAjsjyxQh2"
      },
      "execution_count": 80,
      "outputs": []
    },
    {
      "cell_type": "code",
      "source": [
        "score = metrics.roc_auc_score(y_train, trainy_pred_ec)\n",
        "print(f'The error for roc_auc  : {score}')"
      ],
      "metadata": {
        "colab": {
          "base_uri": "https://localhost:8080/"
        },
        "id": "K_4LkQmmxuqp",
        "outputId": "327843ce-53a8-4ac2-8699-c53985c52fc1"
      },
      "execution_count": 81,
      "outputs": [
        {
          "output_type": "stream",
          "name": "stdout",
          "text": [
            "The error for roc_auc  : 0.9040915826203337\n"
          ]
        }
      ]
    },
    {
      "cell_type": "code",
      "source": [
        "sklearn.metrics.SCORERS.keys()"
      ],
      "metadata": {
        "id": "zT5zmGWrG5wf"
      },
      "execution_count": null,
      "outputs": []
    },
    {
      "cell_type": "code",
      "source": [
        "'''\n",
        "loss = []\n",
        "for name, model in models.items():\n",
        "  cv_results = cross_validate(model, X=x_train, y=y_train, cv=5, scoring=scoring)\n",
        "  clf = model.fit(x_train, y_train)\n",
        "  pred = model.predict(x_train)\n",
        "  score = metrics.roc_auc_score(y_train, pred)\n",
        "  print(f'The error for {scoring} with {model} : {score}')\n",
        "'''"
      ],
      "metadata": {
        "id": "uLQOhX1_kMSB"
      },
      "execution_count": null,
      "outputs": []
    },
    {
      "cell_type": "code",
      "source": [
        "pred = clf.predict_proba(x_test)"
      ],
      "metadata": {
        "id": "LfLovcMMnCE6"
      },
      "execution_count": 82,
      "outputs": []
    },
    {
      "cell_type": "markdown",
      "source": [
        "# Submission to Kaggle"
      ],
      "metadata": {
        "id": "WaY84Iflx5BC"
      }
    },
    {
      "cell_type": "code",
      "source": [
        "submission = pd.DataFrame(test['id'])\n",
        "submission['failure'] = pred[:, 1]"
      ],
      "metadata": {
        "id": "0Xe0XKrTpW7L"
      },
      "execution_count": 83,
      "outputs": []
    },
    {
      "cell_type": "code",
      "source": [
        "submission.to_csv('submission2.csv', index=False)"
      ],
      "metadata": {
        "id": "gUjlKSNEqxRq"
      },
      "execution_count": 84,
      "outputs": []
    },
    {
      "cell_type": "code",
      "source": [
        "!kaggle competitions submit -c tabular-playground-series-aug-2022 -f submission.csv -m \"5\""
      ],
      "metadata": {
        "id": "kSe8EpI0s6pk"
      },
      "execution_count": null,
      "outputs": []
    },
    {
      "cell_type": "code",
      "source": [
        "submission.head()"
      ],
      "metadata": {
        "id": "jP-WmPhcHSFL"
      },
      "execution_count": null,
      "outputs": []
    },
    {
      "cell_type": "code",
      "source": [
        ""
      ],
      "metadata": {
        "id": "uFFJLVkCHUR0"
      },
      "execution_count": null,
      "outputs": []
    }
  ]
}