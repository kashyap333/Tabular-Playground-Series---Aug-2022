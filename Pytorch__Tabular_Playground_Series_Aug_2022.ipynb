{
  "nbformat": 4,
  "nbformat_minor": 0,
  "metadata": {
    "colab": {
      "name": "Pytorch_ Tabular Playground Series - Aug 2022.ipynb",
      "provenance": [],
      "collapsed_sections": [],
      "authorship_tag": "ABX9TyOcZ8LK4XvKE4Xa0eMxaxcf",
      "include_colab_link": true
    },
    "kernelspec": {
      "name": "python3",
      "display_name": "Python 3"
    },
    "language_info": {
      "name": "python"
    },
    "accelerator": "GPU",
    "gpuClass": "standard"
  },
  "cells": [
    {
      "cell_type": "markdown",
      "metadata": {
        "id": "view-in-github",
        "colab_type": "text"
      },
      "source": [
        "<a href=\"https://colab.research.google.com/github/kashyap333/Tabular-Playground-Series---Aug-2022/blob/main/Pytorch__Tabular_Playground_Series_Aug_2022.ipynb\" target=\"_parent\"><img src=\"https://colab.research.google.com/assets/colab-badge.svg\" alt=\"Open In Colab\"/></a>"
      ]
    },
    {
      "cell_type": "markdown",
      "source": [
        "## Kaggle requirements \n",
        "\n",
        "1) Data download and unzipping"
      ],
      "metadata": {
        "id": "1VKM8U8gRoFQ"
      }
    },
    {
      "cell_type": "code",
      "execution_count": null,
      "metadata": {
        "id": "TZXd5QkMA_qj"
      },
      "outputs": [],
      "source": [
        "!pip install kaggle\n",
        "!mkdir ~/.kaggle\n",
        "!cp kaggle.json ~/.kaggle/kaggle.json\n",
        "!chmod 600 /root/.kaggle/kaggle.json"
      ]
    },
    {
      "cell_type": "code",
      "source": [
        "!kaggle competitions download -c tabular-playground-series-aug-2022"
      ],
      "metadata": {
        "id": "5O7WueXcBJh4"
      },
      "execution_count": null,
      "outputs": []
    },
    {
      "cell_type": "code",
      "source": [
        "!unzip tabular-playground-series-aug-2022"
      ],
      "metadata": {
        "id": "5BSd3FRaBq9i"
      },
      "execution_count": null,
      "outputs": []
    },
    {
      "cell_type": "markdown",
      "source": [
        "## Installing requirements"
      ],
      "metadata": {
        "id": "8A0IR4IeRuzp"
      }
    },
    {
      "cell_type": "code",
      "source": [
        "import pandas as pd\n",
        "import numpy as np\n",
        "import matplotlib.pyplot as plt\n",
        "from sklearn.experimental import enable_iterative_imputer\n",
        "from sklearn.impute import IterativeImputer, SimpleImputer, KNNImputer\n",
        "from imblearn.over_sampling import SMOTE\n",
        "from collections import Counter\n",
        "from sklearn.preprocessing import StandardScaler \n",
        "import torch\n",
        "from sklearn.model_selection import train_test_split\n",
        "from torch import nn\n",
        "from torch.utils.data import DataLoader, Dataset, TensorDataset"
      ],
      "metadata": {
        "id": "_t1POisnrDcE"
      },
      "execution_count": 11,
      "outputs": []
    },
    {
      "cell_type": "code",
      "source": [
        "train = pd.read_csv('train.csv')\n",
        "test = pd.read_csv('test.csv')\n",
        "train_test = pd.concat([train[test.columns], test], ignore_index=True)"
      ],
      "metadata": {
        "id": "uS-XUFrsBwSD"
      },
      "execution_count": 14,
      "outputs": []
    },
    {
      "cell_type": "markdown",
      "source": [
        "## Preprocessing of Data\n",
        "\n",
        "1) KNNImputer for NA values\n",
        "\n",
        "2) Standard scaler of columns\n",
        "\n",
        "3) Smote as Target labels are unbalanced"
      ],
      "metadata": {
        "id": "50QaDVs_R9rc"
      }
    },
    {
      "cell_type": "code",
      "source": [
        "object_columns = ['product_code', 'attribute_0', 'attribute_1']\n",
        "train_test.drop(['id'], axis=1, inplace=True)\n",
        "#train_test_object = train_test.copy()\n",
        "train_test.drop(object_columns, axis=1, inplace=True)\n",
        "all_columns = train_test.columns"
      ],
      "metadata": {
        "id": "QquOJSTWIilq"
      },
      "execution_count": 17,
      "outputs": []
    },
    {
      "cell_type": "code",
      "source": [
        "plt.bar(x=train.failure.unique(), height=train.failure.value_counts(), tick_label=train.failure.unique(), width =0.5)\n",
        "plt.title('failure value counts')\n",
        "plt.ylabel('counts')\n",
        "plt.xlabel('binary value')\n",
        "\n",
        "plt.legend()\n",
        "#plt.label()"
      ],
      "metadata": {
        "colab": {
          "base_uri": "https://localhost:8080/",
          "height": 330
        },
        "id": "TePP-a4ETZfo",
        "outputId": "473750b5-aaa9-446c-951a-c1d8d5d93e19"
      },
      "execution_count": 18,
      "outputs": [
        {
          "output_type": "stream",
          "name": "stderr",
          "text": [
            "WARNING:matplotlib.legend:No handles with labels found to put in legend.\n"
          ]
        },
        {
          "output_type": "execute_result",
          "data": {
            "text/plain": [
              "<matplotlib.legend.Legend at 0x7f708564bdd0>"
            ]
          },
          "metadata": {},
          "execution_count": 18
        },
        {
          "output_type": "display_data",
          "data": {
            "text/plain": [
              "<Figure size 432x288 with 1 Axes>"
            ],
            "image/png": "[encoded data removed]"
          },
          "metadata": {
            "needs_background": "light"
          }
        }
      ]
    },
    {
      "cell_type": "code",
      "source": [
        "imp = KNNImputer(n_neighbors=3)\n",
        "std_scaler = StandardScaler()\n",
        "for i in train_test.columns:\n",
        "  \n",
        "  train_test[[i]] = imp.fit_transform(train_test[[i]])\n",
        "\n",
        "train_test[all_columns] = std_scaler.fit_transform(train_test[all_columns])"
      ],
      "metadata": {
        "id": "_hX3RCqyCmVa"
      },
      "execution_count": 19,
      "outputs": []
    },
    {
      "cell_type": "code",
      "source": [
        "full_data = train_test.copy()"
      ],
      "metadata": {
        "id": "vsG3X4QBDX85"
      },
      "execution_count": 20,
      "outputs": []
    },
    {
      "cell_type": "code",
      "source": [
        "x_train = full_data.iloc[:train.shape[0], :]\n",
        "y_train = train.failure.astype('float')\n",
        "x_test = full_data.iloc[train.shape[0]:, :]"
      ],
      "metadata": {
        "id": "vUzNU27lDcKd"
      },
      "execution_count": 21,
      "outputs": []
    },
    {
      "cell_type": "code",
      "source": [
        "sm = SMOTE(random_state=42)\n",
        "x_train, y_train = sm.fit_resample(x_train, y_train)\n",
        "print('Resampled dataset shape %s' % Counter(y_train))"
      ],
      "metadata": {
        "colab": {
          "base_uri": "https://localhost:8080/"
        },
        "id": "L0acqNuJDhLP",
        "outputId": "a7dba775-18d2-4cd4-f36a-a521a584fae4"
      },
      "execution_count": 22,
      "outputs": [
        {
          "output_type": "stream",
          "name": "stdout",
          "text": [
            "Resampled dataset shape Counter({0.0: 20921, 1.0: 20921})\n"
          ]
        }
      ]
    },
    {
      "cell_type": "code",
      "source": [
        "x_train.shape, y_train.shape"
      ],
      "metadata": {
        "colab": {
          "base_uri": "https://localhost:8080/"
        },
        "id": "AvyyOPJyEZzs",
        "outputId": "92c0a3f2-b2a6-4f7d-b230-ce717de00ff3"
      },
      "execution_count": 23,
      "outputs": [
        {
          "output_type": "execute_result",
          "data": {
            "text/plain": [
              "((41842, 21), (41842,))"
            ]
          },
          "metadata": {},
          "execution_count": 23
        }
      ]
    },
    {
      "cell_type": "markdown",
      "source": [
        "# Loading dataset into pytorch, i.e: Pytorch tensors"
      ],
      "metadata": {
        "id": "aEvNX1-BEd-i"
      }
    },
    {
      "cell_type": "markdown",
      "source": [
        "Device agnostic code"
      ],
      "metadata": {
        "id": "6b9yGi8FSea2"
      }
    },
    {
      "cell_type": "code",
      "source": [
        "device = (torch.device('cuda') if torch.cuda.is_available() else torch.device('cpu'))"
      ],
      "metadata": {
        "id": "3s5512tbkxnq"
      },
      "execution_count": 24,
      "outputs": []
    },
    {
      "cell_type": "markdown",
      "source": [
        "Dataset class to make pytorch dataset for train and test"
      ],
      "metadata": {
        "id": "8KsvwCKSSkii"
      }
    },
    {
      "cell_type": "code",
      "source": [
        "class aug_train(Dataset):\n",
        "  def __init__(self, x_train, y_train):\n",
        "    \n",
        "    self.X_train = torch.from_numpy(x_train.values.astype(np.float32))\n",
        "    self.y_train = torch.from_numpy(y_train.values.astype(np.float32))\n",
        "\n",
        "  def __len__(self):\n",
        "    return len(self.y_train)\n",
        "\n",
        "  def __getitem__(self, idx):\n",
        "    return self.X_train[idx], self.y_train[idx]"
      ],
      "metadata": {
        "id": "VynOmPGbmB8y"
      },
      "execution_count": 25,
      "outputs": []
    },
    {
      "cell_type": "code",
      "source": [
        "class aug_test(Dataset):\n",
        "  def __init__(self, x_test):\n",
        "    \n",
        "    self.X_test = torch.from_numpy(x_test.values.astype(np.float32))\n",
        "  \n",
        "\n",
        "  def __len__(self):\n",
        "    return len(self.X_test)\n",
        "\n",
        "  def __getitem__(self, idx):\n",
        "    return self.X_test[idx]"
      ],
      "metadata": {
        "id": "OadocuDqnuwN"
      },
      "execution_count": 26,
      "outputs": []
    },
    {
      "cell_type": "code",
      "source": [
        "train_data = aug_train(x_train, y_train)\n",
        "test_data = aug_test(x_test)"
      ],
      "metadata": {
        "id": "58FK8Zw1evoe"
      },
      "execution_count": 27,
      "outputs": []
    },
    {
      "cell_type": "markdown",
      "source": [
        "Dataloaders for dataset"
      ],
      "metadata": {
        "id": "ZoSJlcjAStqS"
      }
    },
    {
      "cell_type": "code",
      "source": [
        "train_dataloader = DataLoader(train_data, batch_size=16, shuffle=True)\n",
        "test_dataloader = DataLoader(test_data, batch_size=16)"
      ],
      "metadata": {
        "id": "Lhf4t3zBcAbA"
      },
      "execution_count": 28,
      "outputs": []
    },
    {
      "cell_type": "markdown",
      "source": [
        "Sanity check to data and batches"
      ],
      "metadata": {
        "id": "m7DDPzmvSynp"
      }
    },
    {
      "cell_type": "code",
      "source": [
        "dataiter = iter(train_dataloader)\n",
        "dataiter\n",
        "data, labels = dataiter.next()\n",
        "data, labels"
      ],
      "metadata": {
        "id": "1WtqLVSXpd_v"
      },
      "execution_count": null,
      "outputs": []
    },
    {
      "cell_type": "markdown",
      "source": [
        "Building Model"
      ],
      "metadata": {
        "id": "ssW1zG2_MtQT"
      }
    },
    {
      "cell_type": "code",
      "source": [
        "class LinearModel(nn.Module):\n",
        "  def __init__(self):\n",
        "    super().__init__()\n",
        "\n",
        "    self.layer1 = nn.Linear(in_features=21, out_features=32)\n",
        "    self.layer2 = nn.Linear(in_features=32, out_features=16)\n",
        "    self.layer3 = nn.Linear(in_features=16, out_features=8)\n",
        "    self.layer4 = nn.Linear(in_features=8, out_features=1)\n",
        "\n",
        "    self.relu = nn.ReLU()\n",
        "    self.batch_norm1 = nn.BatchNorm1d(16)\n",
        "    self.batch_norm2 = nn.BatchNorm1d(31)\n",
        "    self.dropout = nn.Dropout(p=0.1)\n",
        "\n",
        "\n",
        "  def forward(self, x: torch.tensor):\n",
        "      x = self.layer1(x)\n",
        "      #x = self.batch_norm1(x)\n",
        "      x = self.relu(self.layer2(x))\n",
        "      x = self.batch_norm1(x)\n",
        "      x = self.layer3(x)\n",
        "      #x = self.batch_norm2(x)\n",
        "      #x = self.dropout(x)\n",
        "      x = self.layer4(x)\n",
        "\n",
        "      return x\n",
        "\n",
        "torch.manual_seed(42)\n",
        "model = LinearModel()\n",
        "#model, model.state_dict()"
      ],
      "metadata": {
        "id": "w5i6PM80l0uU"
      },
      "execution_count": 29,
      "outputs": []
    },
    {
      "cell_type": "markdown",
      "source": [
        "Transferring model to gpu"
      ],
      "metadata": {
        "id": "_jv6VxLAS_r7"
      }
    },
    {
      "cell_type": "code",
      "source": [
        "model.to(device)\n",
        "next(model.parameters()).device"
      ],
      "metadata": {
        "id": "wnaSNebUooPx",
        "colab": {
          "base_uri": "https://localhost:8080/"
        },
        "outputId": "8c65df1d-be17-471c-9733-412d481f957e"
      },
      "execution_count": 30,
      "outputs": [
        {
          "output_type": "execute_result",
          "data": {
            "text/plain": [
              "device(type='cuda', index=0)"
            ]
          },
          "metadata": {},
          "execution_count": 30
        }
      ]
    },
    {
      "cell_type": "markdown",
      "source": [
        "Loss and optmiter for NN"
      ],
      "metadata": {
        "id": "J3BFwbIXS6mc"
      }
    },
    {
      "cell_type": "code",
      "source": [
        "loss_fn = nn.SmoothL1Loss()\n",
        "\n",
        "optimizer = torch.optim.SGD(model.parameters(), lr=0.0001, momentum=0.9)"
      ],
      "metadata": {
        "id": "j0M3mYhmpPzD"
      },
      "execution_count": 33,
      "outputs": []
    },
    {
      "cell_type": "markdown",
      "source": [
        "Training loop"
      ],
      "metadata": {
        "id": "5NDWRkxHTEW7"
      }
    },
    {
      "cell_type": "code",
      "source": [
        "torch.manual_seed(42)\n",
        "\n",
        "loss_value = []\n",
        "epoch_no = []\n",
        "epochs = 500\n",
        "\n",
        "\n",
        "\n",
        "for epoch in range(epochs+1):\n",
        "  model.train()\n",
        "  for x_train, y_train in train_dataloader:\n",
        "    \n",
        "    x_train = x_train.to(device)\n",
        "    y_train = y_train.to(device)\n",
        "\n",
        "    y_pred = model(x_train)\n",
        "\n",
        "    loss = loss_fn(y_pred, y_train.unsqueeze(1))\n",
        "\n",
        "    optimizer.zero_grad()\n",
        "\n",
        "    loss.backward()\n",
        "\n",
        "    optimizer.step()\n",
        "\n",
        "\n",
        "\n",
        "  if epoch % 50 == 0:\n",
        "    print(f'Epoch: {epoch} | Loss: {loss}')\n",
        "    loss_value.append(loss.detach().cpu().numpy())\n",
        "    epoch_no.append(epoch)\n",
        "\n"
      ],
      "metadata": {
        "colab": {
          "base_uri": "https://localhost:8080/"
        },
        "id": "aqNCSHRkp85x",
        "outputId": "f09ba9d6-338a-4007-d0ab-3680fb3d04d8"
      },
      "execution_count": 34,
      "outputs": [
        {
          "output_type": "stream",
          "name": "stdout",
          "text": [
            "Epoch: 0 | Loss: 0.15645131468772888\n",
            "Epoch: 50 | Loss: 0.2179325819015503\n",
            "Epoch: 100 | Loss: 0.12787911295890808\n",
            "Epoch: 150 | Loss: 0.12835676968097687\n",
            "Epoch: 200 | Loss: 0.1283135563135147\n",
            "Epoch: 250 | Loss: 0.01667841151356697\n",
            "Epoch: 300 | Loss: 0.08065465837717056\n",
            "Epoch: 350 | Loss: 0.1368044912815094\n",
            "Epoch: 400 | Loss: 0.1341848075389862\n",
            "Epoch: 450 | Loss: 0.07211282104253769\n",
            "Epoch: 500 | Loss: 0.15725959837436676\n"
          ]
        }
      ]
    },
    {
      "cell_type": "markdown",
      "source": [
        "Plotting of trainloss \n"
      ],
      "metadata": {
        "id": "bb5dJRAJTH4E"
      }
    },
    {
      "cell_type": "code",
      "source": [
        "plt.plot(epoch_no, loss_value, label=\"Train loss\")\n",
        "#plt.plot(epoch_no, loss_value, label=\"Test loss\")\n",
        "plt.title(\"Training and test loss curves\")\n",
        "plt.ylabel(\"Loss\")\n",
        "plt.xlabel(\"Epochs\")\n",
        "plt.legend();"
      ],
      "metadata": {
        "colab": {
          "base_uri": "https://localhost:8080/",
          "height": 295
        },
        "id": "PkhTl6FIdbzU",
        "outputId": "3ed4b318-99d7-46b6-dfc4-cf824963cbc8"
      },
      "execution_count": 36,
      "outputs": [
        {
          "output_type": "display_data",
          "data": {
            "text/plain": [
              "<Figure size 432x288 with 1 Axes>"
            ],
            "image/png": "[encoded data removed]"
          },
          "metadata": {
            "needs_background": "light"
          }
        }
      ]
    },
    {
      "cell_type": "markdown",
      "source": [
        "Making Inference and submission to kaggle"
      ],
      "metadata": {
        "id": "9-xbWrgdTPnL"
      }
    },
    {
      "cell_type": "code",
      "source": [
        "test_loss = []\n",
        "\n",
        "model.eval()\n",
        "for x_test in test_dataloader:\n",
        "  x_test = x_test.to(device)\n",
        "  with torch.inference_mode():\n",
        "    test_pred = model(x_test)\n",
        "    test_pred_value = test_pred.cpu().numpy()\n",
        "    \n",
        "\n",
        "    test_loss.append(test_pred_value)"
      ],
      "metadata": {
        "id": "9QaMk5yKqIKm"
      },
      "execution_count": 37,
      "outputs": []
    },
    {
      "cell_type": "code",
      "source": [
        "final_probs = [item for sublist in test_loss for item in sublist]\n"
      ],
      "metadata": {
        "id": "l38PC1wZilvK"
      },
      "execution_count": 38,
      "outputs": []
    },
    {
      "cell_type": "code",
      "source": [
        "result = []\n",
        "for i in range(len(final_probs)):\n",
        "  result.append(final_probs[i][0])\n"
      ],
      "metadata": {
        "id": "L9RUyjfEQisA"
      },
      "execution_count": 39,
      "outputs": []
    },
    {
      "cell_type": "code",
      "source": [
        "len(result), len(test)"
      ],
      "metadata": {
        "colab": {
          "base_uri": "https://localhost:8080/"
        },
        "id": "sr73SNywRDnA",
        "outputId": "f88c871a-03e2-4eef-93f1-af24236abb08"
      },
      "execution_count": 40,
      "outputs": [
        {
          "output_type": "execute_result",
          "data": {
            "text/plain": [
              "(20775, 20775)"
            ]
          },
          "metadata": {},
          "execution_count": 40
        }
      ]
    },
    {
      "cell_type": "code",
      "source": [
        "results = pd.DataFrame(test.id)\n",
        "results['failure'] = result\n",
        "result = results.to_csv('result.csv', index=False)"
      ],
      "metadata": {
        "id": "YdsveSjNgJd0"
      },
      "execution_count": 41,
      "outputs": []
    },
    {
      "cell_type": "code",
      "source": [
        "results.head()"
      ],
      "metadata": {
        "colab": {
          "base_uri": "https://localhost:8080/",
          "height": 206
        },
        "id": "RxzjoAUPgoMH",
        "outputId": "46ca59be-c888-4ae0-d602-57724ba19755"
      },
      "execution_count": 42,
      "outputs": [
        {
          "output_type": "execute_result",
          "data": {
            "text/plain": [
              "      id   failure\n",
              "0  26570  0.199624\n",
              "1  26571 -0.162587\n",
              "2  26572  0.420799\n",
              "3  26573  0.227064\n",
              "4  26574  0.432934"
            ],
            "text/html": [
              "\n",
              "  <div id=\"df-94f75f06-a553-46ed-84f1-bc2d5e0525a8\">\n",
              "    <div class=\"colab-df-container\">\n",
              "      <div>\n",
              "<style scoped>\n",
              "    .dataframe tbody tr th:only-of-type {\n",
              "        vertical-align: middle;\n",
              "    }\n",
              "\n",
              "    .dataframe tbody tr th {\n",
              "        vertical-align: top;\n",
              "    }\n",
              "\n",
              "    .dataframe thead th {\n",
              "        text-align: right;\n",
              "    }\n",
              "</style>\n",
              "<table border=\"1\" class=\"dataframe\">\n",
              "  <thead>\n",
              "    <tr style=\"text-align: right;\">\n",
              "      <th></th>\n",
              "      <th>id</th>\n",
              "      <th>failure</th>\n",
              "    </tr>\n",
              "  </thead>\n",
              "  <tbody>\n",
              "    <tr>\n",
              "      <th>0</th>\n",
              "      <td>26570</td>\n",
              "      <td>0.199624</td>\n",
              "    </tr>\n",
              "    <tr>\n",
              "      <th>1</th>\n",
              "      <td>26571</td>\n",
              "      <td>-0.162587</td>\n",
              "    </tr>\n",
              "    <tr>\n",
              "      <th>2</th>\n",
              "      <td>26572</td>\n",
              "      <td>0.420799</td>\n",
              "    </tr>\n",
              "    <tr>\n",
              "      <th>3</th>\n",
              "      <td>26573</td>\n",
              "      <td>0.227064</td>\n",
              "    </tr>\n",
              "    <tr>\n",
              "      <th>4</th>\n",
              "      <td>26574</td>\n",
              "      <td>0.432934</td>\n",
              "    </tr>\n",
              "  </tbody>\n",
              "</table>\n",
              "</div>\n",
              "      <button class=\"colab-df-convert\" onclick=\"convertToInteractive('df-94f75f06-a553-46ed-84f1-bc2d5e0525a8')\"\n",
              "              title=\"Convert this dataframe to an interactive table.\"\n",
              "              style=\"display:none;\">\n",
              "        \n",
              "  <svg xmlns=\"http://www.w3.org/2000/svg\" height=\"24px\"viewBox=\"0 0 24 24\"\n",
              "       width=\"24px\">\n",
              "    <path d=\"M0 0h24v24H0V0z\" fill=\"none\"/>\n",
              "    <path d=\"M18.56 5.44l.94 2.06.94-2.06 2.06-.94-2.06-.94-.94-2.06-.94 2.06-2.06.94zm-11 1L8.5 8.5l.94-2.06 2.06-.94-2.06-.94L8.5 2.5l-.94 2.06-2.06.94zm10 10l.94 2.06.94-2.06 2.06-.94-2.06-.94-.94-2.06-.94 2.06-2.06.94z\"/><path d=\"M17.41 7.96l-1.37-1.37c-.4-.4-.92-.59-1.43-.59-.52 0-1.04.2-1.43.59L10.3 9.45l-7.72 7.72c-.78.78-.78 2.05 0 2.83L4 21.41c.39.39.9.59 1.41.59.51 0 1.02-.2 1.41-.59l7.78-7.78 2.81-2.81c.8-.78.8-2.07 0-2.86zM5.41 20L4 18.59l7.72-7.72 1.47 1.35L5.41 20z\"/>\n",
              "  </svg>\n",
              "      </button>\n",
              "      \n",
              "  <style>\n",
              "    .colab-df-container {\n",
              "      display:flex;\n",
              "      flex-wrap:wrap;\n",
              "      gap: 12px;\n",
              "    }\n",
              "\n",
              "    .colab-df-convert {\n",
              "      background-color: #E8F0FE;\n",
              "      border: none;\n",
              "      border-radius: 50%;\n",
              "      cursor: pointer;\n",
              "      display: none;\n",
              "      fill: #1967D2;\n",
              "      height: 32px;\n",
              "      padding: 0 0 0 0;\n",
              "      width: 32px;\n",
              "    }\n",
              "\n",
              "    .colab-df-convert:hover {\n",
              "      background-color: #E2EBFA;\n",
              "      box-shadow: 0px 1px 2px rgba(60, 64, 67, 0.3), 0px 1px 3px 1px rgba(60, 64, 67, 0.15);\n",
              "      fill: #174EA6;\n",
              "    }\n",
              "\n",
              "    [theme=dark] .colab-df-convert {\n",
              "      background-color: #3B4455;\n",
              "      fill: #D2E3FC;\n",
              "    }\n",
              "\n",
              "    [theme=dark] .colab-df-convert:hover {\n",
              "      background-color: #434B5C;\n",
              "      box-shadow: 0px 1px 3px 1px rgba(0, 0, 0, 0.15);\n",
              "      filter: drop-shadow(0px 1px 2px rgba(0, 0, 0, 0.3));\n",
              "      fill: #FFFFFF;\n",
              "    }\n",
              "  </style>\n",
              "\n",
              "      <script>\n",
              "        const buttonEl =\n",
              "          document.querySelector('#df-94f75f06-a553-46ed-84f1-bc2d5e0525a8 button.colab-df-convert');\n",
              "        buttonEl.style.display =\n",
              "          google.colab.kernel.accessAllowed ? 'block' : 'none';\n",
              "\n",
              "        async function convertToInteractive(key) {\n",
              "          const element = document.querySelector('#df-94f75f06-a553-46ed-84f1-bc2d5e0525a8');\n",
              "          const dataTable =\n",
              "            await google.colab.kernel.invokeFunction('convertToInteractive',\n",
              "                                                     [key], {});\n",
              "          if (!dataTable) return;\n",
              "\n",
              "          const docLinkHtml = 'Like what you see? Visit the ' +\n",
              "            '<a target=\"_blank\" href=https://colab.research.google.com/notebooks/data_table.ipynb>data table notebook</a>'\n",
              "            + ' to learn more about interactive tables.';\n",
              "          element.innerHTML = '';\n",
              "          dataTable['output_type'] = 'display_data';\n",
              "          await google.colab.output.renderOutput(dataTable, element);\n",
              "          const docLink = document.createElement('div');\n",
              "          docLink.innerHTML = docLinkHtml;\n",
              "          element.appendChild(docLink);\n",
              "        }\n",
              "      </script>\n",
              "    </div>\n",
              "  </div>\n",
              "  "
            ]
          },
          "metadata": {},
          "execution_count": 42
        }
      ]
    },
    {
      "cell_type": "code",
      "source": [
        "!kaggle competitions submit -c tabular-playground-series-aug-2022 -f result.csv -m \"Pytorch\""
      ],
      "metadata": {
        "colab": {
          "base_uri": "https://localhost:8080/"
        },
        "id": "iN4ErYZOg2yM",
        "outputId": "2c67e162-2e00-4432-b6c2-0f4dd02ebb58"
      },
      "execution_count": 43,
      "outputs": [
        {
          "output_type": "stream",
          "name": "stdout",
          "text": [
            "100% 342k/342k [00:02<00:00, 170kB/s]\n",
            "Successfully submitted to Tabular Playground Series - Aug 2022"
          ]
        }
      ]
    }
  ]
}